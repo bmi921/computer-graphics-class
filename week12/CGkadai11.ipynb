{
  "nbformat": 4,
  "nbformat_minor": 0,
  "metadata": {
    "colab": {
      "provenance": []
    },
    "kernelspec": {
      "name": "python3",
      "display_name": "Python 3"
    },
    "language_info": {
      "name": "python"
    }
  },
  "cells": [
    {
      "cell_type": "markdown",
      "source": [
        "**＜本日の課題＞**  \n",
        "課題番号の前に〇がついている課題が提出課題です。コードを作成し実行結果を出力したipynb形式ファイルを提出してください。  \n",
        "（それ以外の課題は，コードや実行結果が空欄のままでもOK）"
      ],
      "metadata": {
        "id": "FO5vHRo_Q874"
      }
    },
    {
      "cell_type": "markdown",
      "source": [
        "**課題11-1**　サンプルコードsample11-1を実行し，画像に見立てた25x25の配列を利用したラスタ表現の画像が表示されること，座標(12,12)に輝度255を設定することで中心に白点が表示されることを確認しなさい。\n",
        "また，buffer[12, 12] = 255の座標値を変えることで，指定した場所に白点が表示できることを確認しなさい。(bufferの要素番号は Y, X の順であることに注意)  \n",
        "\n",
        "\n"
      ],
      "metadata": {
        "id": "XCQGv9kwNl3l"
      }
    },
    {
      "cell_type": "code",
      "execution_count": null,
      "metadata": {
        "id": "QfGg6R0zNWnk"
      },
      "outputs": [],
      "source": [
        "# sample11-1\n",
        "# NumPyライブラリをインポート（数値計算ライブラリ）\n",
        "import numpy as np\n",
        "\n",
        "# Matplotlibライブラリをインポート（グラフ描画ライブラリ）\n",
        "import matplotlib.pyplot as plt\n",
        "\n",
        "# 1. 25x25の2次元配列を作成（画像データに見立てる）\n",
        "# - データ型は8ビットの符号なし整数（0-255の範囲）\n",
        "# - 初期値はすべて0（黒色ピクセルとして解釈される）\n",
        "buffer = np.zeros((25, 25), dtype=np.uint8)\n",
        "\n",
        "# 2. 特定の座標(12,12)に最大輝度（255）を設定\n",
        "# - buffer[Y, X] の順番で指定（順番に注意）\n",
        "# - (12,12) の画素が白色ピクセルになる\n",
        "buffer[12, 12] = 255\n",
        "\n",
        "# 3. 画像として表示\n",
        "# - cmap='gray': グレースケールで表示\n",
        "# - vmin=0, vmax=255: 輝度値の範囲を0から255に指定\n",
        "plt.imshow(buffer, cmap='gray', vmin=0, vmax=255)\n",
        "\n",
        "# 4. 画像を画面に表示\n",
        "plt.show()"
      ]
    },
    {
      "cell_type": "markdown",
      "source": [
        "**課題11-2**　サンプルコードsample11-2を完成させ，指定した始点，終点を結ぶ線分がラスタ表現で描画されることを確認しなさい。"
      ],
      "metadata": {
        "id": "5JfdG_ybNkM2"
      }
    },
    {
      "cell_type": "code",
      "source": [
        "# sample11-2\n",
        "import numpy as np\n",
        "import matplotlib.pyplot as plt\n",
        "\n",
        "# 画像データに見立てた 25x25 の配列\n",
        "buffer = np.zeros((25,25), dtype = np.uint8)\n",
        "\n",
        "# 始点(x1,y1),終点(x2, y2) （ただし x1 < x2 かつ y1 < y2のみ対応）\n",
        "(x1, y1) = (3, 5)\n",
        "(x2, y2) = (20, 10)\n",
        "\n",
        "for x in range(x1, x2+1):\n",
        "    y = round(                         ) # 直線方程式\n",
        "    buffer[y,x] = 255                    # 算出した画素を白(255)でぬりつぶす\n",
        "\n",
        "# 画像（配列buffer）を描画\n",
        "plt.imshow(buffer, cmap='gray', vmin = 0, vmax = 255)\n",
        "plt.plot([x1, x2], [y1, y2], color='red', linewidth=1.5) # 始点と終点を結ぶ線分\n",
        "plt.show()\n"
      ],
      "metadata": {
        "id": "CfkB_uWWOn9-"
      },
      "execution_count": null,
      "outputs": []
    },
    {
      "cell_type": "markdown",
      "source": [
        "**課題11-3**　サンプルコードsample11-3を完成させ，指定した始点，終点を結ぶ線分がラスタ表現で描画されることを確認しなさい。また，直接法（sample11-2）の描画との違いについて確認しなさい。"
      ],
      "metadata": {
        "id": "-ku699duOzI-"
      }
    },
    {
      "cell_type": "code",
      "source": [
        "# sample11-3\n",
        "import numpy as np\n",
        "import matplotlib.pyplot as plt\n",
        "\n",
        "# 画像データに見立てた 25x25 の配列\n",
        "buffer = np.zeros((25,25), dtype = np.uint8)\n",
        "\n",
        "# 始点(x1,y1),終点(x2, y2) （ただし x1 < x2 かつ y1 < y2のみ対応）\n",
        "(x1, y1) = (3, 5)\n",
        "(x2, y2) = (20, 10)\n",
        "\n",
        "d =\n",
        "\n",
        "y = y1\n",
        "for x in range(x1, x2+1):\n",
        "\n",
        "\n",
        "\n",
        "    buffer[round(y),x] = 255\n",
        "\n",
        "plt.imshow(buffer, cmap='gray', vmin = 0, vmax = 255)\n",
        "plt.plot([x1, x2], [y1, y2], color='red', linewidth=1.5)\n",
        "plt.show()"
      ],
      "metadata": {
        "id": "cV4XhF7FO43N"
      },
      "execution_count": null,
      "outputs": []
    },
    {
      "cell_type": "markdown",
      "source": [
        "**課題11-4**　サンプルコードsample11-4を実行し，指定した始点，終点を結ぶ線分がラスタ表現で描画されることを確認しなさい。"
      ],
      "metadata": {
        "id": "Kqe608s-O_eg"
      }
    },
    {
      "cell_type": "code",
      "source": [
        "# sample11-4\n",
        "import numpy as np\n",
        "import matplotlib.pyplot as plt\n",
        "\n",
        "# 画像データに見立てた 25x25 の配列\n",
        "buffer = np.zeros((25,25), dtype = np.uint8)\n",
        "\n",
        "# 始点(x1,y1),終点(x2, y2) （ただし x1 < x2 かつ y1 < y2のみ対応）\n",
        "(x1, y1) = (3, 5)\n",
        "(x2, y2) = (20, 10)\n",
        "\n",
        "d =\n",
        "\n",
        "y = y1\n",
        "e = 0\n",
        "for x in range(x1, x2+1):\n",
        "\n",
        "\n",
        "\n",
        "\n",
        "  buffer[round(y),x] = 255\n",
        "\n",
        "plt.imshow(buffer, cmap='gray', vmin = 0, vmax = 255)\n",
        "plt.plot([x1, x2], [y1, y2], color='red', linewidth=1.5)\n",
        "plt.show()"
      ],
      "metadata": {
        "id": "MtMWgWq0PEJk"
      },
      "execution_count": null,
      "outputs": []
    },
    {
      "cell_type": "markdown",
      "source": [
        "**〇課題11-5**　サンプルコードsample11-4を改変し，Bresenhamのアルゴリズムに従って始点，終点を結ぶ線分を描画するコードを完成させなさい。また，その動作を確認しなさい。"
      ],
      "metadata": {
        "id": "F7B3n7v4PkvG"
      }
    },
    {
      "cell_type": "code",
      "source": [
        "import numpy as np\n",
        "import matplotlib.pyplot as plt\n",
        "\n",
        "# 画像データに見立てた 25x25 の配列\n",
        "buffer = np.zeros((25,25), dtype = np.uint8)\n",
        "\n",
        "# 始点(x1,y1),終点(x2, y2) （ただし x1 < x2 かつ y1 < y2のみ対応）\n",
        "(x1, y1) = (3, 5)\n",
        "(x2, y2) = (20, 10)\n",
        "\n",
        "d =\n",
        "\n",
        "y = y1\n",
        "e = 0\n",
        "for x in range(x1, x2+1):\n",
        "\n",
        "\n",
        "\n",
        "\n",
        "  buffer[round(y),x] = 255\n",
        "\n",
        "plt.imshow(buffer, cmap='gray', vmin = 0, vmax = 255)\n",
        "plt.plot([x1, x2], [y1, y2], color='red', linewidth=1.5)\n",
        "plt.show()"
      ],
      "metadata": {
        "id": "E5FlvtSrPqZG"
      },
      "execution_count": null,
      "outputs": []
    },
    {
      "cell_type": "markdown",
      "source": [
        "**〇課題11-7**　課題11-5で作成したBresenhamのアルゴリズムについて，次の課題に取り組みなさい。\n"
      ],
      "metadata": {
        "id": "DnWIQ59DP195"
      }
    },
    {
      "cell_type": "markdown",
      "source": [
        "**１）**上記コードは，画面左から右の方向 x1→x2 (x1<x2) の線分にしか対応していない。コードを改変し，右から左の方向 x1←x2 (x1<x2)の線分も描画できるようにしなさい。  \n",
        "Hint: 始点(x_1,y_1)と終点(x_2,y_2)の x値を比較し，x_1>x_2 のときは始点と終点の座標値を入れ換える。"
      ],
      "metadata": {
        "id": "Lf0QaV1yQNyL"
      }
    },
    {
      "cell_type": "code",
      "source": [],
      "metadata": {
        "id": "9Z1smxu0QR5c"
      },
      "execution_count": null,
      "outputs": []
    },
    {
      "cell_type": "markdown",
      "source": [
        "**２）**上記のコードは，画面上から下方向 y1→y2 (y1<y2) の線分にしか対応していない。コードを改変し，下から上の方向 y1←y2 (y1<y2)の線分も描画できるようにしなさい。\n",
        "Hint: deltay = y2 - y1 の正負により，誤差（絶対値）がdeltaxの値を超えたときyを増やす（y=y+1）か，減らすか（y=y-1）を判断する。\n"
      ],
      "metadata": {
        "id": "e0yZyGYeQSW_"
      }
    },
    {
      "cell_type": "code",
      "source": [],
      "metadata": {
        "id": "tQvkJp4lQccA"
      },
      "execution_count": null,
      "outputs": []
    },
    {
      "cell_type": "markdown",
      "source": [
        "**課題11-8**　課題11-7のコードは，線分の傾きについて (x2-x1)>(y2-y1)（xの変化量のほうが大きい）が成り立つ場合にしか対応していない。コードを改変し，(x2-x1)<(y2-y1)（yの変化量のほうが大きい）の場合でも線分も描画できるようにしなさい。"
      ],
      "metadata": {
        "id": "rCStrlhJQfcp"
      }
    },
    {
      "cell_type": "code",
      "source": [],
      "metadata": {
        "id": "Y-5_q-XCQmsj"
      },
      "execution_count": null,
      "outputs": []
    }
  ]
}